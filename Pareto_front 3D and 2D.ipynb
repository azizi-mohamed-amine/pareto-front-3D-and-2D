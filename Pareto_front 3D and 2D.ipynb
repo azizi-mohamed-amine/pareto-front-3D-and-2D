{
 "cells": [
  {
   "cell_type": "code",
   "execution_count": 1,
   "metadata": {},
   "outputs": [],
   "source": [
    "#import the pachages\n",
    "from mpl_toolkits.mplot3d import Axes3D\n",
    "import numpy as np\n",
    "import pandas as pd\n",
    "import matplotlib.pyplot as plt\n"
   ]
  },
  {
   "cell_type": "markdown",
   "metadata": {},
   "source": [
    "# 3D"
   ]
  },
  {
   "cell_type": "code",
   "execution_count": 2,
   "metadata": {},
   "outputs": [],
   "source": [
    "#function that get the pareto points\n",
    "def simple_cull(Points, dominates):\n",
    "    paretoPoints = set()\n",
    "    candidateRowNr = 0\n",
    "    dominatedPoints = set()\n",
    "    while True:\n",
    "        candidateRow = Points[candidateRowNr]\n",
    "        Points.remove(candidateRow)\n",
    "        rowNr = 0\n",
    "        nonDominated = True\n",
    "        while len(Points) != 0 and rowNr < len(Points):\n",
    "            row = Points[rowNr]\n",
    "            if dominates(candidateRow, row):\n",
    "                Points.remove(row)\n",
    "                dominatedPoints.add(tuple(row))\n",
    "            elif dominates(row, candidateRow):\n",
    "                nonDominated = False\n",
    "                dominatedPoints.add(tuple(candidateRow))\n",
    "                rowNr += 1\n",
    "            else:\n",
    "                rowNr += 1\n",
    "        if nonDominated:\n",
    "            paretoPoints.add(tuple(candidateRow))\n",
    "        if len(Points) == 0:\n",
    "            break\n",
    "    return paretoPoints, dominatedPoints"
   ]
  },
  {
   "cell_type": "code",
   "execution_count": 3,
   "metadata": {},
   "outputs": [],
   "source": [
    "def dominates(row, candidateRow):\n",
    "    return sum([row[x] >= candidateRow[x] for x in range(len(row))]) == len(row)"
   ]
  },
  {
   "cell_type": "code",
   "execution_count": 4,
   "metadata": {},
   "outputs": [],
   "source": [
    "#put your set of points here \n",
    "#exepmles of points\n",
    "Points =  [[97, 23,25],\n",
    "                  [55, 77,35],\n",
    "                  [34, 76,29],\n",
    "                  [80, 60,42],\n",
    "                  [99,  4,28],\n",
    "                  [81,  5,76],\n",
    "                  [ 5, 81,56],\n",
    "                  [30, 79,24],\n",
    "                  [15, 80,42],\n",
    "                  [70, 65,74],\n",
    "                  [90, 40,36],\n",
    "                  [40, 30,94],\n",
    "                  [30, 40,5],\n",
    "                  [20, 60,42],\n",
    "                  [60, 50,4],\n",
    "                  [20, 20,49],\n",
    "                  [30,  1,73],\n",
    "                  [60, 40,55],\n",
    "                  [70, 25,42],\n",
    "                  [44, 62,37],\n",
    "                  [55, 55,49],\n",
    "                  [55, 10,18],\n",
    "                  [15, 45,72],\n",
    "                  [83, 22,29],\n",
    "                  [76, 46,10],\n",
    "                  [56, 32,27],\n",
    "                  [45, 55,88],\n",
    "                  [10, 70,26],\n",
    "                  [10, 30,44],\n",
    "                  [79, 50,40]]"
   ]
  },
  {
   "cell_type": "code",
   "execution_count": 5,
   "metadata": {},
   "outputs": [],
   "source": [
    "paretoPoints, dominatedPoints = simple_cull(Points, dominates)\n",
    "#the points of pareto\n"
   ]
  },
  {
   "cell_type": "code",
   "execution_count": 6,
   "metadata": {},
   "outputs": [
    {
     "data": {
      "text/plain": [
       "<mpl_toolkits.mplot3d.art3d.Path3DCollection at 0x22f954900c8>"
      ]
     },
     "execution_count": 6,
     "metadata": {},
     "output_type": "execute_result"
    },
    {
     "data": {
      "image/png": "[encoded data removed]",
      "text/plain": [
       "<Figure size 432x288 with 1 Axes>"
      ]
     },
     "metadata": {
      "needs_background": "light"
     },
     "output_type": "display_data"
    }
   ],
   "source": [
    "#plot the pareto front 3D\n",
    "fig = plt.figure()\n",
    "ax = fig.add_subplot(111, projection='3d')\n",
    "dp = np.array(list(dominatedPoints))\n",
    "pp = np.array(list(paretoPoints))\n",
    "plt.title('vf')\n",
    "ax.scatter(dp[:,0],dp[:,1],dp[:,2])\n",
    "ax.scatter(pp[:,0],pp[:,1],pp[:,2],color='red')"
   ]
  },
  {
   "cell_type": "markdown",
   "metadata": {},
   "source": [
    "# 2D "
   ]
  },
  {
   "cell_type": "code",
   "execution_count": 7,
   "metadata": {},
   "outputs": [],
   "source": [
    "#function that calculates the pareto\n",
    "def pareto(points):\n",
    "    n = points.shape[0]\n",
    "    population_ids = np.arange(n)\n",
    "    pareto_front = np.ones(n, dtype=bool)\n",
    "    #idea of geting the pareto_front \n",
    "    for i in range(n):\n",
    "        for j in range(n):\n",
    "            if all(points[j] <= points[i]) and any(points[j] < points[i]):\n",
    "                pareto_front[i] = 0\n",
    "                break\n",
    "    return population_ids[pareto_front]"
   ]
  },
  {
   "cell_type": "code",
   "execution_count": 8,
   "metadata": {},
   "outputs": [],
   "source": [
    "#put your set of points here \n",
    "#exepmles of points\n",
    "points = np.array([[97, 23],\n",
    "                  [55, 77],\n",
    "                  [ 5, 81],\n",
    "                  [30, 79],\n",
    "                  [15, 80],\n",
    "                  [70, 65],\n",
    "                  [90, 40],\n",
    "                  [40, 30],\n",
    "                  [30, 40],\n",
    "                  [20, 60],\n",
    "                  [60, 50],\n",
    "                  [20, 20],\n",
    "                  [30,  1],\n",
    "                  [60, 40],\n",
    "                  [70, 25],\n",
    "                  [44, 62],\n",
    "                  [55, 55],\n",
    "                  [55, 10],\n",
    "                  [10, 30],\n",
    "                  [79, 50]])"
   ]
  },
  {
   "cell_type": "code",
   "execution_count": 9,
   "metadata": {},
   "outputs": [],
   "source": [
    "pareto = pareto(points)\n",
    "pareto_front = points[pareto]"
   ]
  },
  {
   "cell_type": "code",
   "execution_count": 10,
   "metadata": {},
   "outputs": [],
   "source": [
    "#create a data frame that contains a pareto front\n",
    "data = pd.DataFrame(pareto_front)\n",
    "data.sort_values(0, inplace=True)\n",
    "pareto_front = data.values"
   ]
  },
  {
   "cell_type": "code",
   "execution_count": 11,
   "metadata": {},
   "outputs": [
    {
     "data": {
      "image/png": "[encoded data removed]",
      "text/plain": [
       "<Figure size 432x288 with 1 Axes>"
      ]
     },
     "metadata": {
      "needs_background": "light"
     },
     "output_type": "display_data"
    }
   ],
   "source": [
    "#plot the pareto front \n",
    "x = points[:, 0]\n",
    "y = points[:, 1]\n",
    "x_pareto = pareto_front[:, 0]\n",
    "y_pareto = pareto_front[:, 1]\n",
    "\n",
    "plt.scatter(x, y)\n",
    "plt.title(\"plot of set of points and thier pareto front\")\n",
    "plt.plot(x_pareto, y_pareto, color='g')\n",
    "plt.xlabel('Axis x')\n",
    "plt.ylabel('Axis z')\n",
    "plt.show()"
   ]
  },
  {
   "cell_type": "code",
   "execution_count": null,
   "metadata": {},
   "outputs": [],
   "source": []
  }
 ],
 "metadata": {
  "kernelspec": {
   "display_name": "Python 3",
   "language": "python",
   "name": "python3"
  },
  "language_info": {
   "codemirror_mode": {
    "name": "ipython",
    "version": 3
   },
   "file_extension": ".py",
   "mimetype": "text/x-python",
   "name": "python",
   "nbconvert_exporter": "python",
   "pygments_lexer": "ipython3",
   "version": "3.7.9"
  }
 },
 "nbformat": 4,
 "nbformat_minor": 4
}
